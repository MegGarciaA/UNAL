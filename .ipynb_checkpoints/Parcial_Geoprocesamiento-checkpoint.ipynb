{
 "cells": [
  {
   "cell_type": "markdown",
   "id": "4e0e01a8-fb28-4404-93cb-b8f1a9b26597",
   "metadata": {},
   "source": [
    "# 📚 **Guía de uso y sincronización de GitHub con Jupyterlab**"
   ]
  },
  {
   "cell_type": "markdown",
   "id": "6bbabc52-9569-4f5b-bc70-1f8e0d159669",
   "metadata": {},
   "source": [
    "### *Elaborado por: Megan García Antivar*"
   ]
  },
  {
   "cell_type": "markdown",
   "id": "1b7800e7-2174-4f14-8071-95bd3aa60d48",
   "metadata": {},
   "source": [
    "Esta guía tiene como objetivo enseñar cómo integrar GitHub con JupyterLab para gestionar proyectos de manera eficiente, utilizando el control de versiones que ofrece Git. Se instalarán las funciones necesarias, clonar repositorios, realizar commits, manejo de ramas y colaborar con otros desarrolladores directamente dese JupyterLab."
   ]
  },
  {
   "cell_type": "markdown",
   "id": "2efbc03c-8d28-49bb-974b-264f5c374652",
   "metadata": {},
   "source": [
    "## 🧐 Requisitos previos \n",
    "\n",
    "- Git instalado (`git --version`)\n",
    "- JupyterLab actualizado (`jupyter lab --version`)\n",
    "- Extensión `jupyterlab-git`\n",
    "\n",
    "---\n",
    "Si aún no tienes instalado GitHub, sigue las instrucciones según tu sistema operativo:\n",
    "- [Instalar Git en Windows](https://git-scm.com/downloads/win)\n",
    "- [Instalar Git en macOS](https://git-scm.com/downloads/mac)\n",
    "- [Instalar Git en Linux](https://git-scm.com/download/linux)\n",
    "\n",
    ">Una vez instalado, reinicia la terminal"
   ]
  },
  {
   "cell_type": "markdown",
   "id": "5ab01143-6817-4bbc-8502-0728192d2dae",
   "metadata": {},
   "source": [
    "##  💻 Paso 1: GitHub en tu PC"
   ]
  },
  {
   "cell_type": "markdown",
   "id": "85e6a7de-6334-4cd7-851d-3f1462abe75a",
   "metadata": {},
   "source": [
    "Git se instalará dentro de tu computador, más no dentr del contenedor de Docker, por tanto deberás verificar si Git está instalado dentro de tu computador para conectar en una carpeta local."
   ]
  },
  {
   "cell_type": "markdown",
   "id": "dd7910fa-2a42-4443-a6fa-6d2fb49ffe22",
   "metadata": {},
   "source": [
    "### 1.1. Verificar versión Git\n",
    "\n",
    "Abre una terminal o PowerShell en Windows y escribe:"
   ]
  },
  {
   "cell_type": "markdown",
   "id": "2ec9a4ae-7fd4-4e46-be18-f567a75861e5",
   "metadata": {},
   "source": [
    "```bash\n",
    "git --version"
   ]
  },
  {
   "cell_type": "markdown",
   "id": "a208c81d-6ddb-4d93-a2b6-22297204dc38",
   "metadata": {},
   "source": [
    "Si Git está instalado correctamente, obtendrás algo similar a:"
   ]
  },
  {
   "cell_type": "markdown",
   "id": "8a8acd8f-5880-459c-aef3-93c3350408eb",
   "metadata": {},
   "source": [
    "![Texto alternativo](git.jpg)"
   ]
  },
  {
   "cell_type": "markdown",
   "id": "9b09c54f-4573-4c95-995b-5a7ff021b490",
   "metadata": {},
   "source": [
    "### 1.2. Configurar credenciales\n",
    "\n",
    "Esta información es necesaria por identificar el usuario. Ingresa nombre y correo con las siguientes instrucciones:"
   ]
  },
  {
   "cell_type": "markdown",
   "id": "1dc10ab8-99dd-4376-86e4-c22328b8b9e6",
   "metadata": {},
   "source": [
    "```bash\n",
    "git config --global user.name \"Tu nombre\"\n",
    "git config --global user.email \"correo\""
   ]
  },
  {
   "cell_type": "markdown",
   "id": "dfb070a3-6340-449f-a514-62f567d0ad8a",
   "metadata": {},
   "source": [
    "Para verificar que se hayan guardado correctamente, ingresa:"
   ]
  },
  {
   "cell_type": "markdown",
   "id": "267390c9-1a50-4a0d-a951-f801595ecded",
   "metadata": {},
   "source": [
    "```bash\n",
    "git config --global --list"
   ]
  },
  {
   "cell_type": "markdown",
   "id": "21dfdaba-e328-4a24-a0e1-3fd4c3986f88",
   "metadata": {},
   "source": [
    "### 1.3. Ubicate en la carpeta de origen\n",
    "\n",
    "Para sincronizar nuestros archivos de Docker en GitHub, debemos situarnos en nuestra carpeta de origen, es decir, donde estamos almacenando nuestros notebooks."
   ]
  },
  {
   "cell_type": "markdown",
   "id": "a15c0b47-aa00-4835-996b-9ef276435e90",
   "metadata": {},
   "source": [
    "Si tu carpeta de origen es:\n",
    "\n",
    ">C:\\Users\\megan\\Documents\\Docker_Unal\\Geoprocesamiento"
   ]
  },
  {
   "cell_type": "markdown",
   "id": "fad46cee-c6c9-4064-9bff-3746caf6e474",
   "metadata": {},
   "source": [
    "Podrás dirigirte a ella, de la siguiente manera:"
   ]
  },
  {
   "cell_type": "markdown",
   "id": "2c6fd244-e3f5-4e46-882d-b78a65ddb12a",
   "metadata": {},
   "source": [
    "```bash\n",
    "cd ~/Documents/Docker_Unal/Geoprocesamiento"
   ]
  },
  {
   "cell_type": "markdown",
   "id": "8c353bd3-6fbd-4bd1-9741-981974bfa22a",
   "metadata": {},
   "source": [
    "![Carpeta de origen](cap2.jpg)"
   ]
  },
  {
   "cell_type": "markdown",
   "id": "8c7272ad-5023-49d0-86f5-0fd83e3591e3",
   "metadata": {},
   "source": [
    "### 1.4. Instalar Git dentro del contenedor de Docker:\n",
    "\n",
    "Inicia al contenedor ccon la siguiente instrucción:\n",
    "\n",
    "```bash\n",
    "docker run --rm -d -t --name=jupyter -p 8888:8888 --mount src=\"C:\\Users\\megan\\Documents\\Docker_Unal\",target=/app,type=bind my_python_image\n"
   ]
  },
  {
   "cell_type": "markdown",
   "id": "4da6738a-c56f-4b2a-84ab-51487e83d6ce",
   "metadata": {},
   "source": [
    "☝🏼 *Este código:*\n",
    "\n",
    "| Comando                                  | Descripción                                           |\n",
    "|------------------------------------------|-------------------------------------------------------|\n",
    "| `docker run`                             | Ejecuta un nuevo contenedor Docker.                  |\n",
    "| `--rm`                                   | Elimina el contenedor al detenerlo.                  |\n",
    "| `-d`                                     | Modo daemon (segundo plano).                         |\n",
    "| `-t`                                     | Asigna terminal.                                     |\n",
    "| `--name=jupyter`                         | Nombre asignado al contenedor.                       |\n",
    "| `-p 8888:8888`                           | Redirecciona puerto 8888.                            |\n",
    "| `--mount src=...,target=...,type=bind`   | Monta una carpeta local al contenedor.               |\n",
    "| `my_python_image`                        | Imagen base con Jupyter/Python.                      |\n"
   ]
  },
  {
   "cell_type": "markdown",
   "id": "4810f296-d80a-49da-983f-c341a8f3474f",
   "metadata": {},
   "source": [
    "Ingresa al contenedor:"
   ]
  },
  {
   "cell_type": "markdown",
   "id": "d152977f-2077-4539-a49f-f997f168bb58",
   "metadata": {},
   "source": [
    "```bash\n",
    "docker exec -it jupyter bash"
   ]
  },
  {
   "cell_type": "markdown",
   "id": "5e26597e-a91a-4fd9-8510-2322032bcb23",
   "metadata": {},
   "source": [
    "🔎 Una vez dentro:\n",
    "```bash\n",
    "apt update\n",
    "apt install git -y"
   ]
  },
  {
   "cell_type": "markdown",
   "id": "69bb9c5e-a67e-419f-a02a-bbe61226029e",
   "metadata": {},
   "source": [
    "☝🏼 *Aquí:*\n",
    "\n",
    "| Comando                | Función                                                                                  |\n",
    "|------------------------|------------------------------------------------------------------------------------------|\n",
    "| `apt update`           | - Se conecta a los repositorios configurados.                                           |\n",
    "|                        | - Descarga la lista actualizada de versiones y dependencias de todos los paquetes.      |\n",
    "|                        | - No instala nada; solo actualiza el índice local.                                       |\n",
    "| `apt install git -y`   | - Busca e instala el paquete `git`.                                                     |\n",
    "|                        | - `-y`: Responde automáticamente “sí” a todas las preguntas, útil para automatización.  |\n"
   ]
  },
  {
   "cell_type": "markdown",
   "id": "2b001594-a4ff-477b-a89f-c05136ec168c",
   "metadata": {},
   "source": [
    "Para verificar que instalo correctamente, ejecutar:"
   ]
  },
  {
   "cell_type": "markdown",
   "id": "2930a665-ad19-4b91-a744-b36ecaee20e2",
   "metadata": {},
   "source": [
    "```bash\n",
    "git --version"
   ]
  },
  {
   "cell_type": "markdown",
   "id": "f9c70f09-e536-4870-9667-70bc05afcdbb",
   "metadata": {},
   "source": [
    "### 🚨 Para identificarte en Git dentro del contenedor\n",
    "\n",
    "*Dirigirse a la sección 1.2. Configurar credenciales y seguir las instrucciones.*"
   ]
  },
  {
   "cell_type": "markdown",
   "id": "14b98fa8-d284-402b-9219-4cac15597f2c",
   "metadata": {},
   "source": [
    "## 💻💻 Paso 2: Crear repositorio en GitHub\n",
    "\n",
    "Un repositorio en GitHub es básicamente un contenedor digital donde puedes almacenar, organizar y compartir todos los archivos relacionados con un proyecto. Es una parte central del flujo de trabajo con Git y GitHub."
   ]
  },
  {
   "cell_type": "markdown",
   "id": "73e3bbcc-f3a4-4308-aa4a-49ac69616955",
   "metadata": {},
   "source": [
    "1. Ingresar a GitHub, acceder a la cuenta o crear una en caso necesario.\n",
    "2. En \"New\" crear repositorio.\n",
    "3. Configurar el repositorio: asignar un nombre, descripción (opcional) y configurar privacidad.\n",
    "4. Click en Create repository.\n",
    "5. Copiar la URL del repositorio (HTTPS o SSH).\n",
    "\n",
    "*Se sugiere crear una clave SSH para conectarse una única vez, sin ser necesario escribir usuario y contraseña cada vez que se ingresa*"
   ]
  },
  {
   "cell_type": "markdown",
   "id": "97be2473-8e6b-4abb-99c0-02502287389f",
   "metadata": {},
   "source": [
    "Por ejemplo:\n",
    "\n",
    ">https://github.com/MegGarciaA/UNAL\n"
   ]
  },
  {
   "cell_type": "markdown",
   "id": "d2088f3b-9ea0-4748-bb44-f437c2540601",
   "metadata": {},
   "source": [
    "## 💻💻💻 Paso 3. Configurar GitHub\n",
    "\n",
    "Una vez instalado Git y configuradas las credenciales locales, el siguiente paso es conectar tu entorno de trabajo con GitHub, una plataforma en la nube para alojar y colaborar en proyectos con control de versiones. En esta sección aprenderás a crear un repositorio en GitHub, enlazarlo con tu repositorio local y autenticarte correctamente para poder subir tus cambios. Esta conexión te permitirá sincronizar tu trabajo desde JupyterLab hacia GitHub de manera segura y eficiente."
   ]
  },
  {
   "cell_type": "markdown",
   "id": "1d7e2366-42eb-4b0e-a6cc-93df7599beed",
   "metadata": {},
   "source": [
    "### 3.1. Generar clave SSH desde Git Bash\n",
    "\n",
    ">Ejecutar estos comando en GitBash\n",
    "\n",
    "Para autenticarte con GitHub usando SSH, primero debes generar un par de claves (una pública y una privada):\n",
    "\n",
    "```bash\n",
    "ssh-keygen -t ed25519 -C \"correo\""
   ]
  },
  {
   "cell_type": "markdown",
   "id": "e4064670-1d8b-4f47-a03a-ef12a52c76ef",
   "metadata": {},
   "source": [
    "- Presiona Enter para aceptar la ruta predeterminada. Ejemplo:/c/Users/megan/.ssh/id_ed25519.\n",
    "- Puedes dejar el passphrase vacío o definir uno si deseas seguridad adicional.\n",
    "- Verás un mensaje confirmando que las claves se han creado correctamente."
   ]
  },
  {
   "cell_type": "markdown",
   "id": "6ed77584-4a7a-4bff-872f-699acf39cd22",
   "metadata": {},
   "source": [
    "Para verificar que la clave fue generada, lista el contenido del directorio .ssh:\n",
    "\n",
    "```bash\n",
    "ls ~/.ssh"
   ]
  },
  {
   "cell_type": "markdown",
   "id": "ae05a0a0-d764-4ae7-8b91-37e32aa126ad",
   "metadata": {},
   "source": [
    "Deberías ver algo como:\n",
    "\n",
    "```bash\n",
    "id_ed25519\n",
    "id_ed25519.pub"
   ]
  },
  {
   "cell_type": "markdown",
   "id": "1444d913-ba58-4dc8-a0be-2cef6f45f2e9",
   "metadata": {},
   "source": [
    "![Carpeta de origen](cap4.jpg)"
   ]
  },
  {
   "cell_type": "markdown",
   "id": "d5223c36-886f-474a-beb5-82bdcbe3b58f",
   "metadata": {},
   "source": [
    "### 3.2. Registrar la clave en GitHub"
   ]
  },
  {
   "cell_type": "markdown",
   "id": "dc9a07c4-f830-41d6-aa53-7156a0d7d88d",
   "metadata": {},
   "source": [
    "1. Copiar la clave que aparece después ejecutar:\n",
    "   \n",
    "```bash  \n",
    "cat ~/.ssh/id_ed25519.pub"
   ]
  },
  {
   "cell_type": "markdown",
   "id": "af5cf18a-875c-4044-a5be-b152563cfb88",
   "metadata": {},
   "source": [
    "2. Ve a GitHub y entra a tu cuenta.\n",
    "3. En la esquina superior derecha, haz clic en tu foto de perfil y selecciona Settings.\n",
    "4. En el menú de la izquierda, haz clic en SSH and GPG keys.\n",
    "5. Haz clic en New SSH key.\n",
    "6. En el campo Title, asigna un nombre descriptivo.\n",
    "7. En el campo Key, pega la clave pública que copiaste en el paso anterior.\n",
    "8. Haz clic en Add SSH key.\n",
    "\n",
    "😁 Ahora tu clave SSH está registrada en GitHub y podrás usarla para autenticarte sin necesidad de ingresar tu contraseña cada vez que interactúes con repositorios."
   ]
  },
  {
   "cell_type": "markdown",
   "id": "4fad00c4-8900-4ab3-a1cb-40d5a8a29431",
   "metadata": {},
   "source": [
    "### 3.3. "
   ]
  }
 ],
 "metadata": {
  "kernelspec": {
   "display_name": "Python 3 (ipykernel)",
   "language": "python",
   "name": "python3"
  },
  "language_info": {
   "codemirror_mode": {
    "name": "ipython",
    "version": 3
   },
   "file_extension": ".py",
   "mimetype": "text/x-python",
   "name": "python",
   "nbconvert_exporter": "python",
   "pygments_lexer": "ipython3",
   "version": "3.11.9"
  }
 },
 "nbformat": 4,
 "nbformat_minor": 5
}
